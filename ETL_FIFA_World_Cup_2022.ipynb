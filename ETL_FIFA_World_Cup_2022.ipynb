{
 "cells": [
  {
   "cell_type": "markdown",
   "id": "2c7afaed-9a93-473e-b987-d9e66f8db451",
   "metadata": {},
   "source": [
    "![Imagen](https://www.jumpdesign.co.uk/wp-content/uploads/2021/02/BANNER-LOGO-1024x288.jpg)\n",
    "# **ETL - FIFA World Cup 2022**\n",
    "### The objective of this Jupyter Notebook is generate a CSV that can feed a Power BI dashboard with all the data corresponding to every match in the FIFA World Cup 2022.\n",
    "\n",
    "To achieve this we will use two different datasets:\n",
    "1) The main dataset will be the following Kaggle dataset: [Main dataset](https://www.kaggle.com/datasets/die9origephit/fifa-world-cup-2022-complete-dataset)\n",
    "2) The secondary dataset will be the following Kaggle dataset: [Secondary dataset](https://www.kaggle.com/datasets/swaptr/fifa-world-cup-2022-match-data)\n",
    "\n",
    "We will take some features from the secondary dataset in order to have a more complete dataset and we will make the necessary transformations to have the dataset with a suitable format to feed the Power BI bashboard."
   ]
  },
  {
   "cell_type": "code",
   "execution_count": 1,
   "id": "a1cd5648-f66b-463e-8d89-a59cc44ea2e0",
   "metadata": {},
   "outputs": [],
   "source": [
    "import pandas as pd\n",
    "#pd.set_option(\"display.max_columns\", None)\n",
    "#pd.set_option(\"display.max_rows\", None)"
   ]
  },
  {
   "cell_type": "code",
   "execution_count": 2,
   "id": "2e4d5da5-d015-4c26-933f-9f15f12d0812",
   "metadata": {
    "scrolled": true
   },
   "outputs": [],
   "source": [
    "#Load CSVs\n",
    "df1 = pd.read_csv(\"../FIFA_World_Cup_2022/FIFA_dataset/Fifa_world_cup_matches_v1.csv\")\n",
    "df2 = pd.read_csv(\"../FIFA_World_Cup_2022/FBref_matchs/data.csv\")"
   ]
  },
  {
   "cell_type": "code",
   "execution_count": 3,
   "id": "c5053e55-67b5-4558-963d-b784df90131f",
   "metadata": {},
   "outputs": [],
   "source": [
    "#Normalization of some features in the data frame\n",
    "df1[\"team1\"] = df1[\"team1\"].apply(lambda x: x.title())\n",
    "df1[\"team2\"] = df1[\"team2\"].apply(lambda x: x.title())\n",
    "df1.loc[df1[\"category\"].str.contains(\"Group\"), \"category\"] = \"Group stage\"\n",
    "df1.loc[df1[\"category\"] == \"Play-off for third place\", \"category\"] = \"3rd place\""
   ]
  },
  {
   "cell_type": "code",
   "execution_count": 4,
   "id": "53a2a183-5c8a-4639-ae26-52c16c847997",
   "metadata": {},
   "outputs": [],
   "source": [
    "#Add additional information to the main data frame from the secondary data frame\n",
    "additional_info = [\"home_xg\", \"away_xg\", \"attendance\", \"venue\", \"referee\", \"home_formation\", \"away_formation\", \"home_touches\", \"away_touches\", \n",
    "                \"home_tackles\", \"away_tackles\", \"home_interceptions\", \"away_interceptions\", \"home_aerials_won\", \"away_aerials_won\", \n",
    "                \"home_clearances\", \"away_clearances\", \"home_gks\", \"away_gks\", \"home_throw_ins\", \"away_throw_ins\", \"home_long_balls\", \"away_long_balls\"]\n",
    "df1[additional_info] = df2[additional_info]\n",
    "df1[[\"rival team1\", \"rival team2\"]] = df1[[\"team2\", \"team1\"]]"
   ]
  },
  {
   "cell_type": "code",
   "execution_count": 5,
   "id": "c86a24f8-06b7-4559-b86b-871d1db2b8a8",
   "metadata": {},
   "outputs": [],
   "source": [
    "#Split team1 and team2 data\n",
    "#Create team1 data frame\n",
    "team1_columns = [col for col in df1.columns if \"team2\" not in col and \"away\" not in col]\n",
    "team1 = df1[team1_columns]"
   ]
  },
  {
   "cell_type": "code",
   "execution_count": 6,
   "id": "812b6d46-17e1-474f-ac4d-a468e59d61a7",
   "metadata": {},
   "outputs": [],
   "source": [
    "#Create team2 data frame\n",
    "team2_columns = [col for col in df1.columns if \"team1\" not in col and \"home\" not in col]\n",
    "team2 = df1[team2_columns]\n",
    "columns_team1 = team1.columns\n",
    "columns_team2 = team2.columns\n",
    "map_columns = dict(zip(columns_team2, columns_team1))\n",
    "team2 = team2.rename(columns=map_columns)"
   ]
  },
  {
   "cell_type": "code",
   "execution_count": 7,
   "id": "a0d24c62-73fa-4aae-92de-ee80b9bed7cd",
   "metadata": {},
   "outputs": [],
   "source": [
    "#Concatenate both data frames\n",
    "FWC2022 = pd.concat([team1, team2])"
   ]
  },
  {
   "cell_type": "code",
   "execution_count": 8,
   "id": "f1fbf1d7-3227-453a-b7ad-f516aa5139c9",
   "metadata": {},
   "outputs": [],
   "source": [
    "#Add team ID to data frame\n",
    "all_teams = pd.read_csv(\"Teams.csv\")\n",
    "mapping = dict(zip(all_teams[\"team\"], all_teams[\"team_id\"]))\n",
    "FWC2022[\"team_id\"] = FWC2022[\"team1\"].map(mapping)"
   ]
  },
  {
   "cell_type": "code",
   "execution_count": 9,
   "id": "4bce4800-e65c-43a0-ba3f-4c048a429278",
   "metadata": {},
   "outputs": [],
   "source": [
    "#Reset and rename index\n",
    "FWC2022 = FWC2022.reset_index(drop=True)\n",
    "FWC2022 = FWC2022.rename_axis(\"match_id\", axis=0)"
   ]
  },
  {
   "cell_type": "code",
   "execution_count": 10,
   "id": "3870e3bc-8e47-4a5b-8226-48d9e4804812",
   "metadata": {
    "scrolled": true
   },
   "outputs": [],
   "source": [
    "#Manually replaced column names\n",
    "FWC2022.rename(columns={'team1': \"team\", 'number of goals team1': \"goals\", 'category': \"stage\", 'venue': \"stadium\"}, inplace=True)\n",
    "#Programmatically replaced column names\n",
    "FWC2022.rename(columns=lambda x: x.replace(\" team1\", \"\").replace(\"home_\", \"\"), inplace=True)"
   ]
  },
  {
   "cell_type": "code",
   "execution_count": 11,
   "id": "5c1ed07b-4289-4f70-bef8-9800f3eefeb0",
   "metadata": {},
   "outputs": [],
   "source": [
    "#Add the data corresponding to the rivals\n",
    "top_col1 = FWC2022.iloc[:int(len(FWC2022)/2), 7:8]\n",
    "top_col2 = FWC2022.iloc[:int(len(FWC2022)/2), 9:47]\n",
    "top_col3 = FWC2022.iloc[:int(len(FWC2022)/2), 50:59]\n",
    "top = pd.concat([top_col1, top_col2, top_col3], axis=1)\n",
    "top.rename(columns=lambda x: x + \"_against\", inplace=True)\n",
    "\n",
    "bottom_col1 = FWC2022.iloc[int(len(FWC2022)/2):, 7:8]\n",
    "bottom_col2 = FWC2022.iloc[int(len(FWC2022)/2):, 9:47]\n",
    "bottom_col3 = FWC2022.iloc[int(len(FWC2022)/2):, 50:59]\n",
    "bottom = pd.concat([bottom_col1, bottom_col2, bottom_col3], axis=1)\n",
    "bottom.rename(columns=lambda x: x + \"_against\", inplace=True)\n",
    "\n",
    "against = pd.concat([bottom, top])\n",
    "against = against.reset_index(drop=True)\n",
    "FWC2022 = pd.concat([FWC2022, against], axis=1)"
   ]
  },
  {
   "cell_type": "code",
   "execution_count": 12,
   "id": "63271d20-82e5-4170-b76f-aa11754cc290",
   "metadata": {},
   "outputs": [],
   "source": [
    "#Save the data frame\n",
    "FWC2022.to_csv(\"WorldCup2022.csv\")"
   ]
  },
  {
   "cell_type": "code",
   "execution_count": null,
   "id": "fe4eb0f3-e86d-4a6e-bceb-70f7e9633089",
   "metadata": {},
   "outputs": [],
   "source": []
  }
 ],
 "metadata": {
  "kernelspec": {
   "display_name": "Python 3 (ipykernel)",
   "language": "python",
   "name": "python3"
  },
  "language_info": {
   "codemirror_mode": {
    "name": "ipython",
    "version": 3
   },
   "file_extension": ".py",
   "mimetype": "text/x-python",
   "name": "python",
   "nbconvert_exporter": "python",
   "pygments_lexer": "ipython3",
   "version": "3.11.5"
  }
 },
 "nbformat": 4,
 "nbformat_minor": 5
}
